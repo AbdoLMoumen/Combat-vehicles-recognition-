{
  "metadata": {
    "kernelspec": {
      "language": "python",
      "display_name": "Python 3",
      "name": "python3"
    },
    "language_info": {
      "name": "python",
      "version": "3.10.13",
      "mimetype": "text/x-python",
      "codemirror_mode": {
        "name": "ipython",
        "version": 3
      },
      "pygments_lexer": "ipython3",
      "nbconvert_exporter": "python",
      "file_extension": ".py"
    },
    "kaggle": {
      "accelerator": "none",
      "dataSources": [
        {
          "sourceId": 6604065,
          "sourceType": "datasetVersion",
          "datasetId": 3810166
        }
      ],
      "dockerImageVersionId": 30664,
      "isInternetEnabled": true,
      "language": "python",
      "sourceType": "notebook",
      "isGpuEnabled": false
    },
    "colab": {
      "name": "notebookd0d4a8096b",
      "provenance": []
    }
  },
  "nbformat_minor": 0,
  "nbformat": 4,
  "cells": [
    {
      "source": [
        "\n",
        "# IMPORTANT: RUN THIS CELL IN ORDER TO IMPORT YOUR KAGGLE DATA SOURCES\n",
        "# TO THE CORRECT LOCATION (/kaggle/input) IN YOUR NOTEBOOK,\n",
        "# THEN FEEL FREE TO DELETE THIS CELL.\n",
        "# NOTE: THIS NOTEBOOK ENVIRONMENT DIFFERS FROM KAGGLE'S PYTHON\n",
        "# ENVIRONMENT SO THERE MAY BE MISSING LIBRARIES USED BY YOUR\n",
        "# NOTEBOOK.\n",
        "\n",
        "import os\n",
        "import sys\n",
        "from tempfile import NamedTemporaryFile\n",
        "from urllib.request import urlopen\n",
        "from urllib.parse import unquote, urlparse\n",
        "from urllib.error import HTTPError\n",
        "from zipfile import ZipFile\n",
        "import tarfile\n",
        "import shutil\n",
        "\n",
        "CHUNK_SIZE = 40960\n",
        "DATA_SOURCE_MAPPING = 'war-tech-v2-0-by-gontech:https%3A%2F%2Fstorage.googleapis.com%2Fkaggle-data-sets%2F3810166%2F6604065%2Fbundle%2Farchive.zip%3FX-Goog-Algorithm%3DGOOG4-RSA-SHA256%26X-Goog-Credential%3Dgcp-kaggle-com%2540kaggle-161607.iam.gserviceaccount.com%252F20240307%252Fauto%252Fstorage%252Fgoog4_request%26X-Goog-Date%3D20240307T144641Z%26X-Goog-Expires%3D259200%26X-Goog-SignedHeaders%3Dhost%26X-Goog-Signature%3Db3bccd31011d9920b59ad8d08e65b145c3ed10b7a34435a66a1f5b858174de5e31fb9a28f19801b7bad2af6fa5dc1e8e48f8cb3cca4bc2f31eaf8ccdc4b531135e09b52d553b824d44b93ca274e58872b572c720887e46783daf60b6226c9b8c563e701f9fe4f86f32d87fe91dd5b0fd733e67f1a47cb127cc2f7096c257e752be427ef0d472288ff15f7ff4e20a2cacce2ae4fa9270aba828760e268876e86e32c9244157352805b1669cc2d8f67e911cf885c768b37f81a710dbedc00417fcf7fdbd3037bed88f4c418e530b7f4a53323555e614a9c9a898d39692bb3b4c124ad78a38577bc258a8058fd0bde2f81f7cda9e2efb0e74460bdbe6df35770bb4'\n",
        "\n",
        "KAGGLE_INPUT_PATH='/kaggle/input'\n",
        "KAGGLE_WORKING_PATH='/kaggle/working'\n",
        "KAGGLE_SYMLINK='kaggle'\n",
        "\n",
        "!umount /kaggle/input/ 2> /dev/null\n",
        "shutil.rmtree('/kaggle/input', ignore_errors=True)\n",
        "os.makedirs(KAGGLE_INPUT_PATH, 0o777, exist_ok=True)\n",
        "os.makedirs(KAGGLE_WORKING_PATH, 0o777, exist_ok=True)\n",
        "\n",
        "try:\n",
        "  os.symlink(KAGGLE_INPUT_PATH, os.path.join(\"..\", 'input'), target_is_directory=True)\n",
        "except FileExistsError:\n",
        "  pass\n",
        "try:\n",
        "  os.symlink(KAGGLE_WORKING_PATH, os.path.join(\"..\", 'working'), target_is_directory=True)\n",
        "except FileExistsError:\n",
        "  pass\n",
        "\n",
        "for data_source_mapping in DATA_SOURCE_MAPPING.split(','):\n",
        "    directory, download_url_encoded = data_source_mapping.split(':')\n",
        "    download_url = unquote(download_url_encoded)\n",
        "    filename = urlparse(download_url).path\n",
        "    destination_path = os.path.join(KAGGLE_INPUT_PATH, directory)\n",
        "    try:\n",
        "        with urlopen(download_url) as fileres, NamedTemporaryFile() as tfile:\n",
        "            total_length = fileres.headers['content-length']\n",
        "            print(f'Downloading {directory}, {total_length} bytes compressed')\n",
        "            dl = 0\n",
        "            data = fileres.read(CHUNK_SIZE)\n",
        "            while len(data) > 0:\n",
        "                dl += len(data)\n",
        "                tfile.write(data)\n",
        "                done = int(50 * dl / int(total_length))\n",
        "                sys.stdout.write(f\"\\r[{'=' * done}{' ' * (50-done)}] {dl} bytes downloaded\")\n",
        "                sys.stdout.flush()\n",
        "                data = fileres.read(CHUNK_SIZE)\n",
        "            if filename.endswith('.zip'):\n",
        "              with ZipFile(tfile) as zfile:\n",
        "                zfile.extractall(destination_path)\n",
        "            else:\n",
        "              with tarfile.open(tfile.name) as tarfile:\n",
        "                tarfile.extractall(destination_path)\n",
        "            print(f'\\nDownloaded and uncompressed: {directory}')\n",
        "    except HTTPError as e:\n",
        "        print(f'Failed to load (likely expired) {download_url} to path {destination_path}')\n",
        "        continue\n",
        "    except OSError as e:\n",
        "        print(f'Failed to load {download_url} to path {destination_path}')\n",
        "        continue\n",
        "\n",
        "print('Data source import complete.')\n"
      ],
      "metadata": {
        "id": "ZMeanPpqboli"
      },
      "cell_type": "code",
      "outputs": [],
      "execution_count": null
    },
    {
      "cell_type": "code",
      "source": [
        "import numpy as np\n",
        "import pandas as pd\n",
        "import os"
      ],
      "metadata": {
        "execution": {
          "iopub.status.busy": "2024-03-07T13:56:29.078211Z",
          "iopub.execute_input": "2024-03-07T13:56:29.078951Z",
          "iopub.status.idle": "2024-03-07T13:56:30.193098Z",
          "shell.execute_reply.started": "2024-03-07T13:56:29.078903Z",
          "shell.execute_reply": "2024-03-07T13:56:30.191776Z"
        },
        "trusted": true,
        "id": "dS_AOMFRboly"
      },
      "execution_count": null,
      "outputs": []
    },
    {
      "cell_type": "code",
      "source": [
        "file_names = os.listdir(\"/kaggle/input/war-tech-v2-0-by-gontech/war_TCHBYGON/obshaya_papk\")"
      ],
      "metadata": {
        "execution": {
          "iopub.status.busy": "2024-03-07T13:56:30.195127Z",
          "iopub.execute_input": "2024-03-07T13:56:30.195667Z",
          "iopub.status.idle": "2024-03-07T13:56:30.508944Z",
          "shell.execute_reply.started": "2024-03-07T13:56:30.195634Z",
          "shell.execute_reply": "2024-03-07T13:56:30.507722Z"
        },
        "trusted": true,
        "id": "tbcxmyYMbol0"
      },
      "execution_count": null,
      "outputs": []
    },
    {
      "cell_type": "code",
      "source": [
        "os.mkdir(\"datasets\")\n",
        "os.mkdir(\"datasets/train\")\n",
        "os.mkdir(\"datasets/val\")\n",
        "os.mkdir(\"datasets/test\")"
      ],
      "metadata": {
        "execution": {
          "iopub.status.busy": "2024-03-07T13:56:30.510357Z",
          "iopub.execute_input": "2024-03-07T13:56:30.510778Z",
          "iopub.status.idle": "2024-03-07T13:56:30.517312Z",
          "shell.execute_reply.started": "2024-03-07T13:56:30.51074Z",
          "shell.execute_reply": "2024-03-07T13:56:30.516134Z"
        },
        "trusted": true,
        "id": "F-wUSvgvbol1"
      },
      "execution_count": null,
      "outputs": []
    },
    {
      "cell_type": "code",
      "source": [
        "os.mkdir(\"datasets/train/images\")\n",
        "os.mkdir(\"datasets/train/labels\")\n",
        "os.mkdir(\"datasets/test/images\")\n",
        "os.mkdir(\"datasets/test/labels\")\n",
        "os.mkdir(\"datasets/val/images\")\n",
        "os.mkdir(\"datasets/val/labels\")"
      ],
      "metadata": {
        "execution": {
          "iopub.status.busy": "2024-03-07T13:56:30.520058Z",
          "iopub.execute_input": "2024-03-07T13:56:30.520457Z",
          "iopub.status.idle": "2024-03-07T13:56:30.529278Z",
          "shell.execute_reply.started": "2024-03-07T13:56:30.520417Z",
          "shell.execute_reply": "2024-03-07T13:56:30.528286Z"
        },
        "trusted": true,
        "id": "jS8wPXuQbol2"
      },
      "execution_count": null,
      "outputs": []
    },
    {
      "cell_type": "code",
      "source": [
        "from sklearn.model_selection import train_test_split\n",
        "train, test = train_test_split(file_names, test_size=0.1)\n",
        "train, Val = train_test_split(train, test_size=0.15)"
      ],
      "metadata": {
        "execution": {
          "iopub.status.busy": "2024-03-07T13:56:30.530596Z",
          "iopub.execute_input": "2024-03-07T13:56:30.530915Z",
          "iopub.status.idle": "2024-03-07T13:56:31.980735Z",
          "shell.execute_reply.started": "2024-03-07T13:56:30.530877Z",
          "shell.execute_reply": "2024-03-07T13:56:31.979223Z"
        },
        "trusted": true,
        "id": "eh_M9n9Jbol4"
      },
      "execution_count": null,
      "outputs": []
    },
    {
      "cell_type": "code",
      "source": [
        "import shutil"
      ],
      "metadata": {
        "execution": {
          "iopub.status.busy": "2024-03-07T13:56:31.982278Z",
          "iopub.execute_input": "2024-03-07T13:56:31.984671Z",
          "iopub.status.idle": "2024-03-07T13:56:31.989701Z",
          "shell.execute_reply.started": "2024-03-07T13:56:31.984627Z",
          "shell.execute_reply": "2024-03-07T13:56:31.98855Z"
        },
        "trusted": true,
        "id": "oxapN0m1bol5"
      },
      "execution_count": null,
      "outputs": []
    },
    {
      "cell_type": "code",
      "source": [
        "orpath = \"/kaggle/input/war-tech-v2-0-by-gontech/war_TCHBYGON/obshaya_papk\"\n",
        "for t in train:\n",
        "    shutil.copyfile(os.path.join(orpath, t), os.path.join(\"datasets/train/images\", t))"
      ],
      "metadata": {
        "execution": {
          "iopub.status.busy": "2024-03-07T13:56:31.99116Z",
          "iopub.execute_input": "2024-03-07T13:56:31.992084Z",
          "iopub.status.idle": "2024-03-07T13:56:44.148304Z",
          "shell.execute_reply.started": "2024-03-07T13:56:31.992039Z",
          "shell.execute_reply": "2024-03-07T13:56:44.147339Z"
        },
        "trusted": true,
        "id": "KNOoyQH9bol7"
      },
      "execution_count": null,
      "outputs": []
    },
    {
      "cell_type": "code",
      "source": [
        "for t in test:\n",
        "    shutil.copyfile(os.path.join(orpath, t), os.path.join(\"datasets/test/images\", t))"
      ],
      "metadata": {
        "execution": {
          "iopub.status.busy": "2024-03-07T13:56:44.149536Z",
          "iopub.execute_input": "2024-03-07T13:56:44.149848Z",
          "iopub.status.idle": "2024-03-07T13:56:45.81106Z",
          "shell.execute_reply.started": "2024-03-07T13:56:44.149821Z",
          "shell.execute_reply": "2024-03-07T13:56:45.81001Z"
        },
        "trusted": true,
        "id": "OKS0S_4Ibol9"
      },
      "execution_count": null,
      "outputs": []
    },
    {
      "cell_type": "code",
      "source": [
        "for t in Val:\n",
        "    shutil.copyfile(os.path.join(orpath, t), os.path.join(\"datasets/val/images\", t))"
      ],
      "metadata": {
        "execution": {
          "iopub.status.busy": "2024-03-07T13:56:45.812725Z",
          "iopub.execute_input": "2024-03-07T13:56:45.813031Z",
          "iopub.status.idle": "2024-03-07T13:56:47.971518Z",
          "shell.execute_reply.started": "2024-03-07T13:56:45.813004Z",
          "shell.execute_reply": "2024-03-07T13:56:47.970159Z"
        },
        "trusted": true,
        "id": "6Siu2pkEbol_"
      },
      "execution_count": null,
      "outputs": []
    },
    {
      "cell_type": "code",
      "source": [
        "y = pd.read_csv(\"/kaggle/input/war-tech-v2-0-by-gontech/war_TCHBYGON/war_tech_gont-export.csv\")"
      ],
      "metadata": {
        "execution": {
          "iopub.status.busy": "2024-03-07T13:56:47.975576Z",
          "iopub.execute_input": "2024-03-07T13:56:47.975914Z",
          "iopub.status.idle": "2024-03-07T13:56:48.007989Z",
          "shell.execute_reply.started": "2024-03-07T13:56:47.975885Z",
          "shell.execute_reply": "2024-03-07T13:56:48.007125Z"
        },
        "trusted": true,
        "id": "KuigbbxBbomA"
      },
      "execution_count": null,
      "outputs": []
    },
    {
      "cell_type": "code",
      "source": [
        "y[\"image\"].tail()"
      ],
      "metadata": {
        "execution": {
          "iopub.status.busy": "2024-03-07T13:56:48.009476Z",
          "iopub.execute_input": "2024-03-07T13:56:48.010712Z",
          "iopub.status.idle": "2024-03-07T13:56:48.02259Z",
          "shell.execute_reply.started": "2024-03-07T13:56:48.010674Z",
          "shell.execute_reply": "2024-03-07T13:56:48.021355Z"
        },
        "trusted": true,
        "id": "QoLtTNEUbomB",
        "outputId": "e1e7f8d1-1e5b-4e1d-992a-c16947839b2a"
      },
      "execution_count": null,
      "outputs": [
        {
          "execution_count": 11,
          "output_type": "execute_result",
          "data": {
            "text/plain": "3421    tank%20(97).jpg\n3422    tank%20(97).jpg\n3423    tank%20(98).jpg\n3424    tank%20(99).jpg\n3425    tank%20(99).jpg\nName: image, dtype: object"
          },
          "metadata": {}
        }
      ]
    },
    {
      "cell_type": "code",
      "source": [
        "from sklearn import preprocessing\n",
        "\n",
        "# label_encoder object knows\n",
        "# how to understand word labels.\n",
        "label_encoder = preprocessing.LabelEncoder()\n",
        "\n",
        "# Encode labels in column 'species'.\n",
        "y['label']= label_encoder.fit_transform(y['label'])"
      ],
      "metadata": {
        "execution": {
          "iopub.status.busy": "2024-03-07T13:56:48.02395Z",
          "iopub.execute_input": "2024-03-07T13:56:48.024266Z",
          "iopub.status.idle": "2024-03-07T13:56:48.036468Z",
          "shell.execute_reply.started": "2024-03-07T13:56:48.024239Z",
          "shell.execute_reply": "2024-03-07T13:56:48.035628Z"
        },
        "trusted": true,
        "id": "rF4k8FWObomE"
      },
      "execution_count": null,
      "outputs": []
    },
    {
      "cell_type": "code",
      "source": [
        "le_name_mapping = dict(zip(label_encoder.classes_, label_encoder.transform(label_encoder.classes_)))\n",
        "print(le_name_mapping)\n"
      ],
      "metadata": {
        "execution": {
          "iopub.status.busy": "2024-03-07T13:56:48.037684Z",
          "iopub.execute_input": "2024-03-07T13:56:48.038183Z",
          "iopub.status.idle": "2024-03-07T13:56:48.0501Z",
          "shell.execute_reply.started": "2024-03-07T13:56:48.038146Z",
          "shell.execute_reply": "2024-03-07T13:56:48.048923Z"
        },
        "trusted": true,
        "id": "EvNTAlBVbomG",
        "outputId": "b714f354-ec6c-49b9-e271-ff4d7b4e76cc"
      },
      "execution_count": null,
      "outputs": [
        {
          "name": "stdout",
          "text": "{'artilleriya': 0, 'bmp': 1, 'bpla': 2, 'bronemashina': 3, 'btr': 4, 'pehota': 5, 'rszo': 6, 'tank': 7}\n",
          "output_type": "stream"
        }
      ]
    },
    {
      "cell_type": "code",
      "source": [
        "import cv2\n",
        "\n",
        "def data2form(filename, xmin, xmax, ymin, ymax, label):\n",
        "    try:\n",
        "\n",
        "        img = cv2.imread(f\"/kaggle/input/war-tech-v2-0-by-gontech/war_TCHBYGON/obshaya_papk/{filename}\")\n",
        "\n",
        "        height = img.shape[1]\n",
        "        width = img.shape[0]\n",
        "        xc = ((xmin+xmax)/2)/width\n",
        "        yc = ((ymin+ymax)/2)/height\n",
        "        return f\"{label} {xc} {yc} {width} {height}\"\n",
        "    except:\n",
        "        pass"
      ],
      "metadata": {
        "execution": {
          "iopub.status.busy": "2024-03-07T13:56:48.052474Z",
          "iopub.execute_input": "2024-03-07T13:56:48.053126Z",
          "iopub.status.idle": "2024-03-07T13:56:48.310267Z",
          "shell.execute_reply.started": "2024-03-07T13:56:48.053087Z",
          "shell.execute_reply": "2024-03-07T13:56:48.309081Z"
        },
        "trusted": true,
        "id": "lqWw7SgEbomH"
      },
      "execution_count": null,
      "outputs": []
    },
    {
      "cell_type": "code",
      "source": [
        "import tqdm\n",
        "try:\n",
        "    for row in tqdm.tqdm(y.loc):\n",
        "        row[\"image\"]=row[\"image\"].replace('%20', ' ')\n",
        "        data = data2form(row[\"image\"], row[\"xmin\"] , row[\"xmax\"], row[\"ymin\"], row[\"ymax\"] , row[\"label\"])\n",
        "        folder = \"datasets/train\" if row[\"image\"] in train else \"datasets/val\" if row[\"image\"] in Val else \"datasets/test\"\n",
        "        with open(f'{folder}/labels/{row[\"image\"][:-4]}.txt', 'a+') as file:\n",
        "            file.write(data) if data else \"\"\n",
        "except:\n",
        "    pass"
      ],
      "metadata": {
        "execution": {
          "iopub.status.busy": "2024-03-07T13:56:48.311681Z",
          "iopub.execute_input": "2024-03-07T13:56:48.311999Z",
          "iopub.status.idle": "2024-03-07T13:56:56.597216Z",
          "shell.execute_reply.started": "2024-03-07T13:56:48.311971Z",
          "shell.execute_reply": "2024-03-07T13:56:56.596261Z"
        },
        "trusted": true,
        "id": "oo4WOr2zbomI",
        "outputId": "80c92996-bbe5-4061-9729-2423952fb9aa"
      },
      "execution_count": null,
      "outputs": [
        {
          "name": "stderr",
          "text": "0it [00:00, ?it/s]/tmp/ipykernel_33/2945117451.py:4: SettingWithCopyWarning: \nA value is trying to be set on a copy of a slice from a DataFrame\n\nSee the caveats in the documentation: https://pandas.pydata.org/pandas-docs/stable/user_guide/indexing.html#returning-a-view-versus-a-copy\n  row[\"image\"]=row[\"image\"].replace('%20', ' ')\n2131it [00:05, 443.58it/s][ WARN:0@5.240] global loadsave.cpp:248 findDecoder imread_('/kaggle/input/war-tech-v2-0-by-gontech/war_TCHBYGON/obshaya_papk/pehota (155).jpg'): can't open/read file: check file path/integrity\n[ WARN:0@5.241] global loadsave.cpp:248 findDecoder imread_('/kaggle/input/war-tech-v2-0-by-gontech/war_TCHBYGON/obshaya_papk/pehota (155).jpg'): can't open/read file: check file path/integrity\n2485it [00:05, 423.55it/s][ WARN:0@6.118] global loadsave.cpp:248 findDecoder imread_('/kaggle/input/war-tech-v2-0-by-gontech/war_TCHBYGON/obshaya_papk/pehota (320).jpg'): can't open/read file: check file path/integrity\n2528it [00:06, 421.87it/s][ WARN:0@6.262] global loadsave.cpp:248 findDecoder imread_('/kaggle/input/war-tech-v2-0-by-gontech/war_TCHBYGON/obshaya_papk/pehota (44).jpg'): can't open/read file: check file path/integrity\n3426it [00:08, 414.39it/s]\n",
          "output_type": "stream"
        }
      ]
    },
    {
      "cell_type": "code",
      "source": [
        "config_str = \"\"\"\n",
        "path: /\n",
        "train: /kaggle/working/datasets/train\n",
        "val: /kaggle/working/datasets/val\n",
        "test: /kaggle/working/datasets/test\n",
        "names:\n",
        "  0:artilleriya\n",
        "  1:bmp\n",
        "  2:bpla\n",
        "  3:bronemashina\n",
        "  4:btr\n",
        "  5:pehota\n",
        "  6:rszo\n",
        "  7:tank\n",
        "\"\"\"\n"
      ],
      "metadata": {
        "execution": {
          "iopub.status.busy": "2024-03-07T13:56:56.598601Z",
          "iopub.execute_input": "2024-03-07T13:56:56.598938Z",
          "iopub.status.idle": "2024-03-07T13:56:56.604113Z",
          "shell.execute_reply.started": "2024-03-07T13:56:56.598909Z",
          "shell.execute_reply": "2024-03-07T13:56:56.602919Z"
        },
        "trusted": true,
        "id": "jSDR_T_kbomJ"
      },
      "execution_count": null,
      "outputs": []
    },
    {
      "cell_type": "code",
      "source": [
        "import yaml\n",
        "\n",
        "# Parse the YAML string\n",
        "config_data = yaml.safe_load(config_str)\n",
        "# Specify the file path where you want to save the YAML file\n",
        "file_path = 'dataset.yaml'\n",
        "# Write the YAML data to the file\n",
        "with open(file_path, 'w') as file:\n",
        "    yaml.dump(config_data, file, default_flow_style=False)\n",
        "print(f\"YAML file saved to {file_path}\")"
      ],
      "metadata": {
        "execution": {
          "iopub.status.busy": "2024-03-07T13:56:56.605642Z",
          "iopub.execute_input": "2024-03-07T13:56:56.606115Z",
          "iopub.status.idle": "2024-03-07T13:56:56.646561Z",
          "shell.execute_reply.started": "2024-03-07T13:56:56.606057Z",
          "shell.execute_reply": "2024-03-07T13:56:56.645415Z"
        },
        "trusted": true,
        "id": "h8zCzHvLbomK",
        "outputId": "96dad0ec-9947-4a84-9c0f-2d8659fad3be"
      },
      "execution_count": null,
      "outputs": [
        {
          "name": "stdout",
          "text": "YAML file saved to dataset.yaml\n",
          "output_type": "stream"
        }
      ]
    },
    {
      "cell_type": "code",
      "source": [
        "pip install ultralytics"
      ],
      "metadata": {
        "execution": {
          "iopub.status.busy": "2024-03-07T13:56:56.64801Z",
          "iopub.execute_input": "2024-03-07T13:56:56.649146Z",
          "iopub.status.idle": "2024-03-07T13:57:13.898591Z",
          "shell.execute_reply.started": "2024-03-07T13:56:56.649107Z",
          "shell.execute_reply": "2024-03-07T13:57:13.897158Z"
        },
        "trusted": true,
        "id": "-jAwF5s2bomL",
        "outputId": "2a0955cb-2375-4ee9-b24b-72928c1a5fb6"
      },
      "execution_count": null,
      "outputs": [
        {
          "name": "stdout",
          "text": "Collecting ultralytics\n  Downloading ultralytics-8.1.24-py3-none-any.whl.metadata (40 kB)\n\u001b[2K     \u001b[90m━━━━━━━━━━━━━━━━━━━━━━━━━━━━━━━━━━━━━━━━\u001b[0m \u001b[32m40.4/40.4 kB\u001b[0m \u001b[31m1.8 MB/s\u001b[0m eta \u001b[36m0:00:00\u001b[0m\n\u001b[?25hRequirement already satisfied: matplotlib>=3.3.0 in /opt/conda/lib/python3.10/site-packages (from ultralytics) (3.7.5)\nRequirement already satisfied: opencv-python>=4.6.0 in /opt/conda/lib/python3.10/site-packages (from ultralytics) (4.9.0.80)\nRequirement already satisfied: pillow>=7.1.2 in /opt/conda/lib/python3.10/site-packages (from ultralytics) (9.5.0)\nRequirement already satisfied: pyyaml>=5.3.1 in /opt/conda/lib/python3.10/site-packages (from ultralytics) (6.0.1)\nRequirement already satisfied: requests>=2.23.0 in /opt/conda/lib/python3.10/site-packages (from ultralytics) (2.31.0)\nRequirement already satisfied: scipy>=1.4.1 in /opt/conda/lib/python3.10/site-packages (from ultralytics) (1.11.4)\nRequirement already satisfied: torch>=1.8.0 in /opt/conda/lib/python3.10/site-packages (from ultralytics) (2.1.2+cpu)\nRequirement already satisfied: torchvision>=0.9.0 in /opt/conda/lib/python3.10/site-packages (from ultralytics) (0.16.2+cpu)\nRequirement already satisfied: tqdm>=4.64.0 in /opt/conda/lib/python3.10/site-packages (from ultralytics) (4.66.1)\nRequirement already satisfied: psutil in /opt/conda/lib/python3.10/site-packages (from ultralytics) (5.9.3)\nRequirement already satisfied: py-cpuinfo in /opt/conda/lib/python3.10/site-packages (from ultralytics) (9.0.0)\nCollecting thop>=0.1.1 (from ultralytics)\n  Downloading thop-0.1.1.post2209072238-py3-none-any.whl.metadata (2.7 kB)\nRequirement already satisfied: pandas>=1.1.4 in /opt/conda/lib/python3.10/site-packages (from ultralytics) (2.2.0)\nRequirement already satisfied: seaborn>=0.11.0 in /opt/conda/lib/python3.10/site-packages (from ultralytics) (0.12.2)\nRequirement already satisfied: contourpy>=1.0.1 in /opt/conda/lib/python3.10/site-packages (from matplotlib>=3.3.0->ultralytics) (1.2.0)\nRequirement already satisfied: cycler>=0.10 in /opt/conda/lib/python3.10/site-packages (from matplotlib>=3.3.0->ultralytics) (0.12.1)\nRequirement already satisfied: fonttools>=4.22.0 in /opt/conda/lib/python3.10/site-packages (from matplotlib>=3.3.0->ultralytics) (4.47.0)\nRequirement already satisfied: kiwisolver>=1.0.1 in /opt/conda/lib/python3.10/site-packages (from matplotlib>=3.3.0->ultralytics) (1.4.5)\nRequirement already satisfied: numpy<2,>=1.20 in /opt/conda/lib/python3.10/site-packages (from matplotlib>=3.3.0->ultralytics) (1.26.4)\nRequirement already satisfied: packaging>=20.0 in /opt/conda/lib/python3.10/site-packages (from matplotlib>=3.3.0->ultralytics) (21.3)\nRequirement already satisfied: pyparsing>=2.3.1 in /opt/conda/lib/python3.10/site-packages (from matplotlib>=3.3.0->ultralytics) (3.1.1)\nRequirement already satisfied: python-dateutil>=2.7 in /opt/conda/lib/python3.10/site-packages (from matplotlib>=3.3.0->ultralytics) (2.8.2)\nRequirement already satisfied: pytz>=2020.1 in /opt/conda/lib/python3.10/site-packages (from pandas>=1.1.4->ultralytics) (2023.3.post1)\nRequirement already satisfied: tzdata>=2022.7 in /opt/conda/lib/python3.10/site-packages (from pandas>=1.1.4->ultralytics) (2023.4)\nRequirement already satisfied: charset-normalizer<4,>=2 in /opt/conda/lib/python3.10/site-packages (from requests>=2.23.0->ultralytics) (3.3.2)\nRequirement already satisfied: idna<4,>=2.5 in /opt/conda/lib/python3.10/site-packages (from requests>=2.23.0->ultralytics) (3.6)\nRequirement already satisfied: urllib3<3,>=1.21.1 in /opt/conda/lib/python3.10/site-packages (from requests>=2.23.0->ultralytics) (1.26.18)\nRequirement already satisfied: certifi>=2017.4.17 in /opt/conda/lib/python3.10/site-packages (from requests>=2.23.0->ultralytics) (2024.2.2)\nRequirement already satisfied: filelock in /opt/conda/lib/python3.10/site-packages (from torch>=1.8.0->ultralytics) (3.13.1)\nRequirement already satisfied: typing-extensions in /opt/conda/lib/python3.10/site-packages (from torch>=1.8.0->ultralytics) (4.9.0)\nRequirement already satisfied: sympy in /opt/conda/lib/python3.10/site-packages (from torch>=1.8.0->ultralytics) (1.12)\nRequirement already satisfied: networkx in /opt/conda/lib/python3.10/site-packages (from torch>=1.8.0->ultralytics) (3.2.1)\nRequirement already satisfied: jinja2 in /opt/conda/lib/python3.10/site-packages (from torch>=1.8.0->ultralytics) (3.1.2)\nRequirement already satisfied: fsspec in /opt/conda/lib/python3.10/site-packages (from torch>=1.8.0->ultralytics) (2024.2.0)\nRequirement already satisfied: six>=1.5 in /opt/conda/lib/python3.10/site-packages (from python-dateutil>=2.7->matplotlib>=3.3.0->ultralytics) (1.16.0)\nRequirement already satisfied: MarkupSafe>=2.0 in /opt/conda/lib/python3.10/site-packages (from jinja2->torch>=1.8.0->ultralytics) (2.1.3)\nRequirement already satisfied: mpmath>=0.19 in /opt/conda/lib/python3.10/site-packages (from sympy->torch>=1.8.0->ultralytics) (1.3.0)\nDownloading ultralytics-8.1.24-py3-none-any.whl (719 kB)\n\u001b[2K   \u001b[90m━━━━━━━━━━━━━━━━━━━━━━━━━━━━━━━━━━━━━━━━\u001b[0m \u001b[32m719.5/719.5 kB\u001b[0m \u001b[31m19.3 MB/s\u001b[0m eta \u001b[36m0:00:00\u001b[0m00:01\u001b[0m\n\u001b[?25hDownloading thop-0.1.1.post2209072238-py3-none-any.whl (15 kB)\nInstalling collected packages: thop, ultralytics\nSuccessfully installed thop-0.1.1.post2209072238 ultralytics-8.1.24\nNote: you may need to restart the kernel to use updated packages.\n",
          "output_type": "stream"
        }
      ]
    },
    {
      "cell_type": "code",
      "source": [
        "!yolo settings datasets_dir='/kaggle/working/datasets' wandb=False"
      ],
      "metadata": {
        "execution": {
          "iopub.status.busy": "2024-03-07T13:58:18.233996Z",
          "iopub.execute_input": "2024-03-07T13:58:18.234499Z",
          "iopub.status.idle": "2024-03-07T13:58:28.68977Z",
          "shell.execute_reply.started": "2024-03-07T13:58:18.234463Z",
          "shell.execute_reply": "2024-03-07T13:58:28.688516Z"
        },
        "trusted": true,
        "id": "A6-hk4eSbomM",
        "outputId": "4cbc8c07-c20e-4056-da97-479b2286de7a"
      },
      "execution_count": null,
      "outputs": [
        {
          "name": "stderr",
          "text": "/opt/conda/lib/python3.10/pty.py:89: RuntimeWarning: os.fork() was called. os.fork() is incompatible with multithreaded code, and JAX is multithreaded, so this will likely lead to a deadlock.\n  pid, fd = os.forkpty()\n",
          "output_type": "stream"
        },
        {
          "name": "stdout",
          "text": "💡 Learn about settings at https://docs.ultralytics.com/quickstart/#ultralytics-settings\nPrinting '\u001b[1m\u001b[30m/root/.config/Ultralytics/settings.yaml\u001b[0m'\n\nsettings_version: 0.0.4\ndatasets_dir: /kaggle/working/datasets\nweights_dir: weights\nruns_dir: runs\nuuid: 1bfc3e992d24318da58ddee183be5bf9388a31f26bab1738e986ec4d297417ff\nsync: true\napi_key: ''\nopenai_api_key: ''\nclearml: true\ncomet: true\ndvc: true\nhub: true\nmlflow: true\nneptune: true\nraytune: true\ntensorboard: true\nwandb: false\n\n",
          "output_type": "stream"
        }
      ]
    },
    {
      "cell_type": "code",
      "source": [
        "from ultralytics import YOLO\n",
        "# Load a model\n",
        "model = YOLO('yolov8n.yaml')  # build a new model from YAML\n",
        "model = YOLO('yolov8n.pt')  # load a pretrained model (recommended for training)\n",
        "model = YOLO('yolov8n.yaml').load('yolov8n.pt')  # build from YAML and transfer weights\n",
        "# Train the model\n",
        "results = model.train(data='dataset.yaml', epochs=100, imgsz=640)"
      ],
      "metadata": {
        "execution": {
          "iopub.status.busy": "2024-03-07T13:58:33.333936Z",
          "iopub.execute_input": "2024-03-07T13:58:33.334504Z"
        },
        "trusted": true,
        "id": "Lm5ft7EpbomM",
        "outputId": "0cf2c284-9f8d-4860-b0d3-368b33e4b5a4"
      },
      "execution_count": null,
      "outputs": [
        {
          "name": "stdout",
          "text": "Transferred 355/355 items from pretrained weights\nUltralytics YOLOv8.1.24 🚀 Python-3.10.13 torch-2.1.2+cpu CPU (Intel Xeon 2.20GHz)\n\u001b[34m\u001b[1mengine/trainer: \u001b[0mtask=detect, mode=train, model=yolov8n.yaml, data=dataset.yaml, epochs=100, time=None, patience=100, batch=16, imgsz=640, save=True, save_period=-1, cache=False, device=None, workers=8, project=None, name=train2, exist_ok=False, pretrained=True, optimizer=auto, verbose=True, seed=0, deterministic=True, single_cls=False, rect=False, cos_lr=False, close_mosaic=10, resume=False, amp=True, fraction=1.0, profile=False, freeze=None, multi_scale=False, overlap_mask=True, mask_ratio=4, dropout=0.0, val=True, split=val, save_json=False, save_hybrid=False, conf=None, iou=0.7, max_det=300, half=False, dnn=False, plots=True, source=None, vid_stride=1, stream_buffer=False, visualize=False, augment=False, agnostic_nms=False, classes=None, retina_masks=False, embed=None, show=False, save_frames=False, save_txt=False, save_conf=False, save_crop=False, show_labels=True, show_conf=True, show_boxes=True, line_width=None, format=torchscript, keras=False, optimize=False, int8=False, dynamic=False, simplify=False, opset=None, workspace=4, nms=False, lr0=0.01, lrf=0.01, momentum=0.937, weight_decay=0.0005, warmup_epochs=3.0, warmup_momentum=0.8, warmup_bias_lr=0.1, box=7.5, cls=0.5, dfl=1.5, pose=12.0, kobj=1.0, label_smoothing=0.0, nbs=64, hsv_h=0.015, hsv_s=0.7, hsv_v=0.4, degrees=0.0, translate=0.1, scale=0.5, shear=0.0, perspective=0.0, flipud=0.0, fliplr=0.5, mosaic=1.0, mixup=0.0, copy_paste=0.0, auto_augment=randaugment, erasing=0.4, crop_fraction=1.0, cfg=None, tracker=botsort.yaml, save_dir=runs/detect/train2\nOverriding model.yaml nc=80 with nc=70\n\n                   from  n    params  module                                       arguments                     \n  0                  -1  1       464  ultralytics.nn.modules.conv.Conv             [3, 16, 3, 2]                 \n  1                  -1  1      4672  ultralytics.nn.modules.conv.Conv             [16, 32, 3, 2]                \n  2                  -1  1      7360  ultralytics.nn.modules.block.C2f             [32, 32, 1, True]             \n  3                  -1  1     18560  ultralytics.nn.modules.conv.Conv             [32, 64, 3, 2]                \n  4                  -1  2     49664  ultralytics.nn.modules.block.C2f             [64, 64, 2, True]             \n  5                  -1  1     73984  ultralytics.nn.modules.conv.Conv             [64, 128, 3, 2]               \n  6                  -1  2    197632  ultralytics.nn.modules.block.C2f             [128, 128, 2, True]           \n  7                  -1  1    295424  ultralytics.nn.modules.conv.Conv             [128, 256, 3, 2]              \n  8                  -1  1    460288  ultralytics.nn.modules.block.C2f             [256, 256, 1, True]           \n  9                  -1  1    164608  ultralytics.nn.modules.block.SPPF            [256, 256, 5]                 \n 10                  -1  1         0  torch.nn.modules.upsampling.Upsample         [None, 2, 'nearest']          \n 11             [-1, 6]  1         0  ultralytics.nn.modules.conv.Concat           [1]                           \n 12                  -1  1    148224  ultralytics.nn.modules.block.C2f             [384, 128, 1]                 \n 13                  -1  1         0  torch.nn.modules.upsampling.Upsample         [None, 2, 'nearest']          \n 14             [-1, 4]  1         0  ultralytics.nn.modules.conv.Concat           [1]                           \n 15                  -1  1     37248  ultralytics.nn.modules.block.C2f             [192, 64, 1]                  \n 16                  -1  1     36992  ultralytics.nn.modules.conv.Conv             [64, 64, 3, 2]                \n 17            [-1, 12]  1         0  ultralytics.nn.modules.conv.Concat           [1]                           \n 18                  -1  1    123648  ultralytics.nn.modules.block.C2f             [192, 128, 1]                 \n 19                  -1  1    147712  ultralytics.nn.modules.conv.Conv             [128, 128, 3, 2]              \n 20             [-1, 9]  1         0  ultralytics.nn.modules.conv.Concat           [1]                           \n 21                  -1  1    493056  ultralytics.nn.modules.block.C2f             [384, 256, 1]                 \n 22        [15, 18, 21]  1    812194  ultralytics.nn.modules.head.Detect           [70, [64, 128, 256]]          \nYOLOv8n summary: 225 layers, 3071730 parameters, 3071714 gradients, 8.5 GFLOPs\n\nTransferred 319/355 items from pretrained weights\n\u001b[34m\u001b[1mTensorBoard: \u001b[0mStart with 'tensorboard --logdir runs/detect/train2', view at http://localhost:6006/\n",
          "output_type": "stream"
        },
        {
          "name": "stderr",
          "text": "\u001b[34m\u001b[1mwandb\u001b[0m: Logging into wandb.ai. (Learn how to deploy a W&B server locally: https://wandb.me/wandb-server)\n\u001b[34m\u001b[1mwandb\u001b[0m: You can find your API key in your browser here: https://wandb.ai/authorize\n\u001b[34m\u001b[1mwandb\u001b[0m: Paste an API key from your profile and hit enter, or press ctrl+c to quit:",
          "output_type": "stream"
        },
        {
          "output_type": "stream",
          "name": "stdin",
          "text": "  ········································\n"
        },
        {
          "name": "stderr",
          "text": "\u001b[34m\u001b[1mwandb\u001b[0m: Appending key for api.wandb.ai to your netrc file: /root/.netrc\n",
          "output_type": "stream"
        }
      ]
    },
    {
      "cell_type": "code",
      "source": [
        "import os\n",
        "def list_files(startpath):\n",
        "    for root, dirs, files in os.walk(startpath):\n",
        "        level = root.replace(startpath, '').count(os.sep)\n",
        "        indent = ' ' * 4 * (level)\n",
        "        print('{}{}/'.format(indent, os.path.basename(root)))\n",
        "        subindent = ' ' * 4 * (level + 1)\n",
        "        for f in files:\n",
        "            print('{}{}'.format(subindent, f))\n",
        "list_files(\"data\")"
      ],
      "metadata": {
        "execution": {
          "iopub.status.busy": "2024-03-07T13:58:09.891225Z",
          "iopub.status.idle": "2024-03-07T13:58:09.892387Z",
          "shell.execute_reply.started": "2024-03-07T13:58:09.892093Z",
          "shell.execute_reply": "2024-03-07T13:58:09.892158Z"
        },
        "trusted": true,
        "id": "P8nKV7sObomN"
      },
      "execution_count": null,
      "outputs": []
    },
    {
      "cell_type": "code",
      "source": [],
      "metadata": {
        "id": "OIHeRCA_bomO"
      },
      "execution_count": null,
      "outputs": []
    }
  ]
}